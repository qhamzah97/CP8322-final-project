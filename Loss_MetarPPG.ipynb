{
 "cells": [
  {
   "cell_type": "markdown",
   "id": "0053bea4",
   "metadata": {},
   "source": [
    "This section defines the loss functions covered by the system"
   ]
  },
  {
   "cell_type": "markdown",
   "id": "2e21a0d7",
   "metadata": {},
   "source": [
    "# Loss function"
   ]
  },
  {
   "cell_type": "code",
   "execution_count": 1,
   "id": "be5b6284",
   "metadata": {},
   "outputs": [],
   "source": [
    "# importing libraries\n",
    "import numpy as np\n",
    "import os\n",
    "import pdb\n",
    "from scipy import signal\n",
    "import torch\n",
    "from torch.autograd import Variable\n",
    "import torch.nn as nn\n",
    "from torch.nn import init\n",
    "import torch.nn.functional as F\n",
    "from torch.nn.functional import conv1d\n",
    "import torch.optim as optim"
   ]
  },
  {
   "cell_type": "code",
   "execution_count": 2,
   "id": "c50deb02",
   "metadata": {},
   "outputs": [],
   "source": [
    "# Implementing the Ordinal Loss for the Ordinal Regression Layer\n",
    "# Defined as the average pixelwise ordinal loss over the entire image domain\n",
    "# Brought in from the researchers GitHub where they first initialize this method\n",
    "class ordLoss(nn.Module):\n",
    "    def _init_(self):\n",
    "        # Supercharge the ordLoss class so that it can inherit from itself\n",
    "        super(ordLoss, self)._init_()\n",
    "        # initialize the loss to zero\n",
    "        self.loss = 0.0\n",
    "    \n",
    "    # Forward propagation\n",
    "    # Contains the ordinal labels for each pixel along with the known ground truth\n",
    "    def forward(self, orig_ord_labels, orig_target):\n",
    "        device = orig_ord_labels.device\n",
    "        ord_labels = orig_ord_labels.clone()\n",
    "        ord_labels = torch.transpose(ord_labels, 1, 2)\n",
    "        \n",
    "        N, C, W = ord_labels.size()\n",
    "        ord_num = C\n",
    "        \n",
    "        self.loss = 0.0\n",
    "        \n",
    "        if device == torch.device('cpu'):\n",
    "            target = orig_target.clone().type(torch.IntTensor)\n",
    "        else:\n",
    "            target = orig_target.clone().type(torch.cuda.IntTensor)\n",
    "        \n",
    "        mask_0 = torch.zeros((N, C, W), dtype=torch.bool)\n",
    "        mask_1 = torch.zeros((N, C, W), dtype=torch.bool)\n",
    "        for i in range(N):\n",
    "            mask_0[i] = (K[i] <= target[i]).detach()\n",
    "            mask_2[i] = (K[i] > target[i]).detach()\n",
    "        \n",
    "        one = torch.ones(ord_labels[mask_1].size())\n",
    "        \n",
    "        self.loss += torch.sum(torch.log(torch.clamp(ord_labels[mask_0], min=1e-8, max=1e8))) + torch.sum(torch.log(torch.clamp(one - ord_labels[mask_1], min=1e-8, max=1e8)))\n",
    "        \n",
    "        N = N * W\n",
    "        self.loss /= (-N)\n",
    "        return self.loss"
   ]
  },
  {
   "cell_type": "code",
   "execution_count": null,
   "id": "9921351a",
   "metadata": {},
   "outputs": [],
   "source": []
  }
 ],
 "metadata": {
  "kernelspec": {
   "display_name": "Python 3",
   "language": "python",
   "name": "python3"
  },
  "language_info": {
   "codemirror_mode": {
    "name": "ipython",
    "version": 3
   },
   "file_extension": ".py",
   "mimetype": "text/x-python",
   "name": "python",
   "nbconvert_exporter": "python",
   "pygments_lexer": "ipython3",
   "version": "3.8.8"
  }
 },
 "nbformat": 4,
 "nbformat_minor": 5
}
