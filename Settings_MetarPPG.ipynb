{
 "cells": [
  {
   "cell_type": "markdown",
   "id": "a5b59ae8",
   "metadata": {},
   "source": [
    "This file incldues the settings required for our training options (Pulled in from the paper's code to ensure similar conditions for training and testing time)"
   ]
  },
  {
   "cell_type": "code",
   "execution_count": 1,
   "id": "8230e84d",
   "metadata": {},
   "outputs": [],
   "source": [
    "import argparse\n",
    "import numpy as np\n",
    "import pdb\n",
    "import random\n",
    "import torch.nn as nn\n",
    "import torch\n",
    "from torch.optim import lr_scheduler"
   ]
  },
  {
   "cell_type": "code",
   "execution_count": 2,
   "id": "c147d4dd",
   "metadata": {},
   "outputs": [],
   "source": [
    "# Setting up the training options\n",
    "\n",
    "class TrainOptions():\n",
    "    \n",
    "    # Define function constructor using an instance of itself\n",
    "    def _init_(self):\n",
    "        self.parser = argparse.ArgumentParser(formatter_class=argparse.ArgumentDefaultsHelpFormatter)\n",
    "        \n",
    "        # Initializing every argument neccessary with a deafault value\n",
    "        # NOTE: can be changed when calling the function      \n",
    "        self.parser.add_argument('--name', type=str, default='meta_rPPG')\n",
    "        self.parser.add_argument('--network', type=str, default='MAML')\n",
    "        self.parser.add_argument('--continue_train', action=\"store_true\")\n",
    "        self.parser.add_argument('--load_file', type=str, default='smallest')\n",
    "        self.parser.add_argument(\"--delay\", type=int, default=48)\n",
    "        self.parser.add_argument('--fewshots', type=int, default=1)\n",
    "        self.parser.add_argument('--lr_ratio', type=float, default=0.1)\n",
    "        \n",
    "        self.parser.add_argument('--per_iter_task', type=int, default=3)\n",
    "        self.parser.add_argument('--lstm_num_layers', type=int, default=2)\n",
    "        self.parser.add_argument('--valid_ratio', type=float, default=0.75)\n",
    "        \n",
    "        self.parser.add_argument('--batch_size', type=int, default=3)\n",
    "        self.parser.add_argument('--lr', type=float, default=1e-3)\n",
    "        self.parser.add_argument('--train_epoch', type=int, default=1)\n",
    "        self.parser.add_argument('--gpu_ids', type=str, default='0')\n",
    "        self.parser.add_argument('--print_net', action='store_true')\n",
    "        self.parser.add_argument('--epoch_count', type=int, default=1)\n",
    "        \n",
    "        self.parser.add_argument('--print_freq', type=int, default=10)\n",
    "        self.parser.add_argument('--save_latest_freq', type=int, default=100)\n",
    "        self.parser.add_argument('--save_epoch_freq', type=int, default=50)\n",
    "        self.parser.add_argument('--save_by_iter', action='store_true')\n",
    "        \n",
    "        self.parser.add_argument('--display_id', type=int, default=1)\n",
    "        self.parser.add_argument('--display_server', type=str, default=\"http://localhost\")\n",
    "        self.parser.add_argument('--display_env', type=str, default='main')\n",
    "        self.parser.add_argument('--display_port', type=int, default=8800)\n",
    "        self.parser.add_argument('--display_winsize', type=int, default=256)\n",
    "        self.parser.add_argument('--verbose', type=bool, default=True)\n",
    "        self.parser.add_argument('--no_html', type=bool, default=True)\n",
    "        self.parser.add_argument('--checkpoints_dir', type=str, default='checkpoints')\n",
    "        self.parser.add_argument('--save_dir', type=str, default='save')\n",
    "        self.parser.add_argument('--max_dataset_size',type=int, default=float(\"inf\"))\n",
    "        \n",
    "        self.parser.add_argument('--num_threads', type=int, default=4)\n",
    "        self.parser.add_argument('--phase', type=str, default='train')\n",
    "        \n",
    "        self.parser.add_argument('--load_iter', type=int, default='0')\n",
    "        self.parser.add_argument('--epoch', type=str, default='latest')\n",
    "        self.parser.add_argument('--win_size', type=int, default=60)\n",
    "        self.parser.add_argument('--adapt_position', type=str, default=\"extractor\")"
   ]
  },
  {
   "cell_type": "code",
   "execution_count": 3,
   "id": "0fe921f0",
   "metadata": {},
   "outputs": [],
   "source": [
    "# Setting up the self-getter functions\n",
    "\n",
    "def get_options(self):\n",
    "    return self.parser.parse_args()\n",
    "\n",
    "def get_parser(self):\n",
    "    return self.parser"
   ]
  },
  {
   "cell_type": "code",
   "execution_count": 4,
   "id": "3f7883be",
   "metadata": {},
   "outputs": [],
   "source": [
    "# Bringing in the sutom scheduler set up by the authors of the paper\n",
    "class custom_scheduler():\n",
    "    def _init_(self, optimizer, Tmax):\n",
    "        self.optimizer = optimizer\n",
    "        self.Tmax = Tmax\n",
    "        self.Max = optimizer.param_groups[0]['lr']\n",
    "        self.Min = self.Max*0.01\n",
    "        self.Tcur = 1\n",
    "        \n",
    "    def step(self):\n",
    "        pi = torch.Tensor([np.pi])\n",
    "        for param_group in self.optimizer.param_groups:\n",
    "            param_group['lr'] = float(self.Min + 0.5 * (self.Max - self.Min) * (1 + torch.cos(pi * self.Tcur/self.Tmax)))\n",
    "        if self.Tcur == 10 or self.Tcur == 30 or self.Tcur == 50 or self.Tcur == 70 or self.Tcur == 90:\n",
    "            self.Max = 10 * self.optimizer.param_groups[0]['lr']\n",
    "        elif self.Tcur == 20 or self.Tcur == 40 or self.Tcur == 60 or self.Tcur == 80 or self.Tcur == 100:\n",
    "            self.Min = 0.01 * self.optimizer.param_groups[0]['lr']\n",
    "        self.Tcur += 1"
   ]
  },
  {
   "cell_type": "code",
   "execution_count": null,
   "id": "7f54814c",
   "metadata": {},
   "outputs": [],
   "source": []
  }
 ],
 "metadata": {
  "kernelspec": {
   "display_name": "Python 3",
   "language": "python",
   "name": "python3"
  },
  "language_info": {
   "codemirror_mode": {
    "name": "ipython",
    "version": 3
   },
   "file_extension": ".py",
   "mimetype": "text/x-python",
   "name": "python",
   "nbconvert_exporter": "python",
   "pygments_lexer": "ipython3",
   "version": "3.8.8"
  }
 },
 "nbformat": 4,
 "nbformat_minor": 5
}
